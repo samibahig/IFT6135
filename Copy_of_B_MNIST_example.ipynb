{
  "nbformat": 4,
  "nbformat_minor": 0,
  "metadata": {
    "colab": {
      "name": "Copy of B. MNIST example",
      "provenance": [],
      "include_colab_link": true
    },
    "kernelspec": {
      "name": "python3",
      "display_name": "Python 3"
    },
    "accelerator": "GPU",
    "widgets": {
      "application/vnd.jupyter.widget-state+json": {
        "6931acdf18104ec6afe664ffaae51998": {
          "model_module": "@jupyter-widgets/controls",
          "model_name": "HBoxModel",
          "state": {
            "_view_name": "HBoxView",
            "_dom_classes": [],
            "_model_name": "HBoxModel",
            "_view_module": "@jupyter-widgets/controls",
            "_model_module_version": "1.5.0",
            "_view_count": null,
            "_view_module_version": "1.5.0",
            "box_style": "",
            "layout": "IPY_MODEL_84810542fe0c4cf3a9a2d129ad4eb05e",
            "_model_module": "@jupyter-widgets/controls",
            "children": [
              "IPY_MODEL_23d3bacd1fb949fd8ad4ee2bbcbb53c0",
              "IPY_MODEL_7b2f4f517b474805afa17a3cceab84f0"
            ]
          }
        },
        "84810542fe0c4cf3a9a2d129ad4eb05e": {
          "model_module": "@jupyter-widgets/base",
          "model_name": "LayoutModel",
          "state": {
            "_view_name": "LayoutView",
            "grid_template_rows": null,
            "right": null,
            "justify_content": null,
            "_view_module": "@jupyter-widgets/base",
            "overflow": null,
            "_model_module_version": "1.2.0",
            "_view_count": null,
            "flex_flow": null,
            "width": null,
            "min_width": null,
            "border": null,
            "align_items": null,
            "bottom": null,
            "_model_module": "@jupyter-widgets/base",
            "top": null,
            "grid_column": null,
            "overflow_y": null,
            "overflow_x": null,
            "grid_auto_flow": null,
            "grid_area": null,
            "grid_template_columns": null,
            "flex": null,
            "_model_name": "LayoutModel",
            "justify_items": null,
            "grid_row": null,
            "max_height": null,
            "align_content": null,
            "visibility": null,
            "align_self": null,
            "height": null,
            "min_height": null,
            "padding": null,
            "grid_auto_rows": null,
            "grid_gap": null,
            "max_width": null,
            "order": null,
            "_view_module_version": "1.2.0",
            "grid_template_areas": null,
            "object_position": null,
            "object_fit": null,
            "grid_auto_columns": null,
            "margin": null,
            "display": null,
            "left": null
          }
        },
        "23d3bacd1fb949fd8ad4ee2bbcbb53c0": {
          "model_module": "@jupyter-widgets/controls",
          "model_name": "IntProgressModel",
          "state": {
            "_view_name": "ProgressView",
            "style": "IPY_MODEL_4c77dcac5fb84ea7b945fadbe54a260f",
            "_dom_classes": [],
            "description": "",
            "_model_name": "IntProgressModel",
            "bar_style": "success",
            "max": 1,
            "_view_module": "@jupyter-widgets/controls",
            "_model_module_version": "1.5.0",
            "value": 1,
            "_view_count": null,
            "_view_module_version": "1.5.0",
            "orientation": "horizontal",
            "min": 0,
            "description_tooltip": null,
            "_model_module": "@jupyter-widgets/controls",
            "layout": "IPY_MODEL_6f183ef0a5094a0dbb713ede35ade216"
          }
        },
        "7b2f4f517b474805afa17a3cceab84f0": {
          "model_module": "@jupyter-widgets/controls",
          "model_name": "HTMLModel",
          "state": {
            "_view_name": "HTMLView",
            "style": "IPY_MODEL_fbbb0906bc6b42e1bb3469e4aa6a2120",
            "_dom_classes": [],
            "description": "",
            "_model_name": "HTMLModel",
            "placeholder": "​",
            "_view_module": "@jupyter-widgets/controls",
            "_model_module_version": "1.5.0",
            "value": "9920512it [00:00, 10712883.55it/s]",
            "_view_count": null,
            "_view_module_version": "1.5.0",
            "description_tooltip": null,
            "_model_module": "@jupyter-widgets/controls",
            "layout": "IPY_MODEL_e9a176306f384d0ea9a416262a83c5d1"
          }
        },
        "4c77dcac5fb84ea7b945fadbe54a260f": {
          "model_module": "@jupyter-widgets/controls",
          "model_name": "ProgressStyleModel",
          "state": {
            "_view_name": "StyleView",
            "_model_name": "ProgressStyleModel",
            "description_width": "",
            "_view_module": "@jupyter-widgets/base",
            "_model_module_version": "1.5.0",
            "_view_count": null,
            "_view_module_version": "1.2.0",
            "bar_color": null,
            "_model_module": "@jupyter-widgets/controls"
          }
        },
        "6f183ef0a5094a0dbb713ede35ade216": {
          "model_module": "@jupyter-widgets/base",
          "model_name": "LayoutModel",
          "state": {
            "_view_name": "LayoutView",
            "grid_template_rows": null,
            "right": null,
            "justify_content": null,
            "_view_module": "@jupyter-widgets/base",
            "overflow": null,
            "_model_module_version": "1.2.0",
            "_view_count": null,
            "flex_flow": null,
            "width": null,
            "min_width": null,
            "border": null,
            "align_items": null,
            "bottom": null,
            "_model_module": "@jupyter-widgets/base",
            "top": null,
            "grid_column": null,
            "overflow_y": null,
            "overflow_x": null,
            "grid_auto_flow": null,
            "grid_area": null,
            "grid_template_columns": null,
            "flex": null,
            "_model_name": "LayoutModel",
            "justify_items": null,
            "grid_row": null,
            "max_height": null,
            "align_content": null,
            "visibility": null,
            "align_self": null,
            "height": null,
            "min_height": null,
            "padding": null,
            "grid_auto_rows": null,
            "grid_gap": null,
            "max_width": null,
            "order": null,
            "_view_module_version": "1.2.0",
            "grid_template_areas": null,
            "object_position": null,
            "object_fit": null,
            "grid_auto_columns": null,
            "margin": null,
            "display": null,
            "left": null
          }
        },
        "fbbb0906bc6b42e1bb3469e4aa6a2120": {
          "model_module": "@jupyter-widgets/controls",
          "model_name": "DescriptionStyleModel",
          "state": {
            "_view_name": "StyleView",
            "_model_name": "DescriptionStyleModel",
            "description_width": "",
            "_view_module": "@jupyter-widgets/base",
            "_model_module_version": "1.5.0",
            "_view_count": null,
            "_view_module_version": "1.2.0",
            "_model_module": "@jupyter-widgets/controls"
          }
        },
        "e9a176306f384d0ea9a416262a83c5d1": {
          "model_module": "@jupyter-widgets/base",
          "model_name": "LayoutModel",
          "state": {
            "_view_name": "LayoutView",
            "grid_template_rows": null,
            "right": null,
            "justify_content": null,
            "_view_module": "@jupyter-widgets/base",
            "overflow": null,
            "_model_module_version": "1.2.0",
            "_view_count": null,
            "flex_flow": null,
            "width": null,
            "min_width": null,
            "border": null,
            "align_items": null,
            "bottom": null,
            "_model_module": "@jupyter-widgets/base",
            "top": null,
            "grid_column": null,
            "overflow_y": null,
            "overflow_x": null,
            "grid_auto_flow": null,
            "grid_area": null,
            "grid_template_columns": null,
            "flex": null,
            "_model_name": "LayoutModel",
            "justify_items": null,
            "grid_row": null,
            "max_height": null,
            "align_content": null,
            "visibility": null,
            "align_self": null,
            "height": null,
            "min_height": null,
            "padding": null,
            "grid_auto_rows": null,
            "grid_gap": null,
            "max_width": null,
            "order": null,
            "_view_module_version": "1.2.0",
            "grid_template_areas": null,
            "object_position": null,
            "object_fit": null,
            "grid_auto_columns": null,
            "margin": null,
            "display": null,
            "left": null
          }
        },
        "7f5f2cb6018043c5bf56a4e66372d43f": {
          "model_module": "@jupyter-widgets/controls",
          "model_name": "HBoxModel",
          "state": {
            "_view_name": "HBoxView",
            "_dom_classes": [],
            "_model_name": "HBoxModel",
            "_view_module": "@jupyter-widgets/controls",
            "_model_module_version": "1.5.0",
            "_view_count": null,
            "_view_module_version": "1.5.0",
            "box_style": "",
            "layout": "IPY_MODEL_4636c19005494e0392b5000281551494",
            "_model_module": "@jupyter-widgets/controls",
            "children": [
              "IPY_MODEL_04733d31eb0d4754b04fbdb0fa34a9f6",
              "IPY_MODEL_e1774dee05e94aa39c43ca1aa9038e85"
            ]
          }
        },
        "4636c19005494e0392b5000281551494": {
          "model_module": "@jupyter-widgets/base",
          "model_name": "LayoutModel",
          "state": {
            "_view_name": "LayoutView",
            "grid_template_rows": null,
            "right": null,
            "justify_content": null,
            "_view_module": "@jupyter-widgets/base",
            "overflow": null,
            "_model_module_version": "1.2.0",
            "_view_count": null,
            "flex_flow": null,
            "width": null,
            "min_width": null,
            "border": null,
            "align_items": null,
            "bottom": null,
            "_model_module": "@jupyter-widgets/base",
            "top": null,
            "grid_column": null,
            "overflow_y": null,
            "overflow_x": null,
            "grid_auto_flow": null,
            "grid_area": null,
            "grid_template_columns": null,
            "flex": null,
            "_model_name": "LayoutModel",
            "justify_items": null,
            "grid_row": null,
            "max_height": null,
            "align_content": null,
            "visibility": null,
            "align_self": null,
            "height": null,
            "min_height": null,
            "padding": null,
            "grid_auto_rows": null,
            "grid_gap": null,
            "max_width": null,
            "order": null,
            "_view_module_version": "1.2.0",
            "grid_template_areas": null,
            "object_position": null,
            "object_fit": null,
            "grid_auto_columns": null,
            "margin": null,
            "display": null,
            "left": null
          }
        },
        "04733d31eb0d4754b04fbdb0fa34a9f6": {
          "model_module": "@jupyter-widgets/controls",
          "model_name": "IntProgressModel",
          "state": {
            "_view_name": "ProgressView",
            "style": "IPY_MODEL_5388a98520ac4d7789295bd968267034",
            "_dom_classes": [],
            "description": "",
            "_model_name": "IntProgressModel",
            "bar_style": "success",
            "max": 1,
            "_view_module": "@jupyter-widgets/controls",
            "_model_module_version": "1.5.0",
            "value": 1,
            "_view_count": null,
            "_view_module_version": "1.5.0",
            "orientation": "horizontal",
            "min": 0,
            "description_tooltip": null,
            "_model_module": "@jupyter-widgets/controls",
            "layout": "IPY_MODEL_13559422952441bb88a0e554011ea839"
          }
        },
        "e1774dee05e94aa39c43ca1aa9038e85": {
          "model_module": "@jupyter-widgets/controls",
          "model_name": "HTMLModel",
          "state": {
            "_view_name": "HTMLView",
            "style": "IPY_MODEL_3675d94791cb4165bd6a29a66d0d01b2",
            "_dom_classes": [],
            "description": "",
            "_model_name": "HTMLModel",
            "placeholder": "​",
            "_view_module": "@jupyter-widgets/controls",
            "_model_module_version": "1.5.0",
            "value": "32768it [00:00, 149616.22it/s]",
            "_view_count": null,
            "_view_module_version": "1.5.0",
            "description_tooltip": null,
            "_model_module": "@jupyter-widgets/controls",
            "layout": "IPY_MODEL_340cde5754a1411e9d0c91a474002128"
          }
        },
        "5388a98520ac4d7789295bd968267034": {
          "model_module": "@jupyter-widgets/controls",
          "model_name": "ProgressStyleModel",
          "state": {
            "_view_name": "StyleView",
            "_model_name": "ProgressStyleModel",
            "description_width": "",
            "_view_module": "@jupyter-widgets/base",
            "_model_module_version": "1.5.0",
            "_view_count": null,
            "_view_module_version": "1.2.0",
            "bar_color": null,
            "_model_module": "@jupyter-widgets/controls"
          }
        },
        "13559422952441bb88a0e554011ea839": {
          "model_module": "@jupyter-widgets/base",
          "model_name": "LayoutModel",
          "state": {
            "_view_name": "LayoutView",
            "grid_template_rows": null,
            "right": null,
            "justify_content": null,
            "_view_module": "@jupyter-widgets/base",
            "overflow": null,
            "_model_module_version": "1.2.0",
            "_view_count": null,
            "flex_flow": null,
            "width": null,
            "min_width": null,
            "border": null,
            "align_items": null,
            "bottom": null,
            "_model_module": "@jupyter-widgets/base",
            "top": null,
            "grid_column": null,
            "overflow_y": null,
            "overflow_x": null,
            "grid_auto_flow": null,
            "grid_area": null,
            "grid_template_columns": null,
            "flex": null,
            "_model_name": "LayoutModel",
            "justify_items": null,
            "grid_row": null,
            "max_height": null,
            "align_content": null,
            "visibility": null,
            "align_self": null,
            "height": null,
            "min_height": null,
            "padding": null,
            "grid_auto_rows": null,
            "grid_gap": null,
            "max_width": null,
            "order": null,
            "_view_module_version": "1.2.0",
            "grid_template_areas": null,
            "object_position": null,
            "object_fit": null,
            "grid_auto_columns": null,
            "margin": null,
            "display": null,
            "left": null
          }
        },
        "3675d94791cb4165bd6a29a66d0d01b2": {
          "model_module": "@jupyter-widgets/controls",
          "model_name": "DescriptionStyleModel",
          "state": {
            "_view_name": "StyleView",
            "_model_name": "DescriptionStyleModel",
            "description_width": "",
            "_view_module": "@jupyter-widgets/base",
            "_model_module_version": "1.5.0",
            "_view_count": null,
            "_view_module_version": "1.2.0",
            "_model_module": "@jupyter-widgets/controls"
          }
        },
        "340cde5754a1411e9d0c91a474002128": {
          "model_module": "@jupyter-widgets/base",
          "model_name": "LayoutModel",
          "state": {
            "_view_name": "LayoutView",
            "grid_template_rows": null,
            "right": null,
            "justify_content": null,
            "_view_module": "@jupyter-widgets/base",
            "overflow": null,
            "_model_module_version": "1.2.0",
            "_view_count": null,
            "flex_flow": null,
            "width": null,
            "min_width": null,
            "border": null,
            "align_items": null,
            "bottom": null,
            "_model_module": "@jupyter-widgets/base",
            "top": null,
            "grid_column": null,
            "overflow_y": null,
            "overflow_x": null,
            "grid_auto_flow": null,
            "grid_area": null,
            "grid_template_columns": null,
            "flex": null,
            "_model_name": "LayoutModel",
            "justify_items": null,
            "grid_row": null,
            "max_height": null,
            "align_content": null,
            "visibility": null,
            "align_self": null,
            "height": null,
            "min_height": null,
            "padding": null,
            "grid_auto_rows": null,
            "grid_gap": null,
            "max_width": null,
            "order": null,
            "_view_module_version": "1.2.0",
            "grid_template_areas": null,
            "object_position": null,
            "object_fit": null,
            "grid_auto_columns": null,
            "margin": null,
            "display": null,
            "left": null
          }
        },
        "4321484b68ef4d9b9c40bb17dc69ffbd": {
          "model_module": "@jupyter-widgets/controls",
          "model_name": "HBoxModel",
          "state": {
            "_view_name": "HBoxView",
            "_dom_classes": [],
            "_model_name": "HBoxModel",
            "_view_module": "@jupyter-widgets/controls",
            "_model_module_version": "1.5.0",
            "_view_count": null,
            "_view_module_version": "1.5.0",
            "box_style": "",
            "layout": "IPY_MODEL_af4d3b67e054428c94061a5562504a41",
            "_model_module": "@jupyter-widgets/controls",
            "children": [
              "IPY_MODEL_fcf7d310df7c427490b2099cb478aaf7",
              "IPY_MODEL_51afd8fc8a044e97a1780afc5d22b173"
            ]
          }
        },
        "af4d3b67e054428c94061a5562504a41": {
          "model_module": "@jupyter-widgets/base",
          "model_name": "LayoutModel",
          "state": {
            "_view_name": "LayoutView",
            "grid_template_rows": null,
            "right": null,
            "justify_content": null,
            "_view_module": "@jupyter-widgets/base",
            "overflow": null,
            "_model_module_version": "1.2.0",
            "_view_count": null,
            "flex_flow": null,
            "width": null,
            "min_width": null,
            "border": null,
            "align_items": null,
            "bottom": null,
            "_model_module": "@jupyter-widgets/base",
            "top": null,
            "grid_column": null,
            "overflow_y": null,
            "overflow_x": null,
            "grid_auto_flow": null,
            "grid_area": null,
            "grid_template_columns": null,
            "flex": null,
            "_model_name": "LayoutModel",
            "justify_items": null,
            "grid_row": null,
            "max_height": null,
            "align_content": null,
            "visibility": null,
            "align_self": null,
            "height": null,
            "min_height": null,
            "padding": null,
            "grid_auto_rows": null,
            "grid_gap": null,
            "max_width": null,
            "order": null,
            "_view_module_version": "1.2.0",
            "grid_template_areas": null,
            "object_position": null,
            "object_fit": null,
            "grid_auto_columns": null,
            "margin": null,
            "display": null,
            "left": null
          }
        },
        "fcf7d310df7c427490b2099cb478aaf7": {
          "model_module": "@jupyter-widgets/controls",
          "model_name": "IntProgressModel",
          "state": {
            "_view_name": "ProgressView",
            "style": "IPY_MODEL_ea2e107674be4597a950eefae5a9aae8",
            "_dom_classes": [],
            "description": "",
            "_model_name": "IntProgressModel",
            "bar_style": "success",
            "max": 1,
            "_view_module": "@jupyter-widgets/controls",
            "_model_module_version": "1.5.0",
            "value": 1,
            "_view_count": null,
            "_view_module_version": "1.5.0",
            "orientation": "horizontal",
            "min": 0,
            "description_tooltip": null,
            "_model_module": "@jupyter-widgets/controls",
            "layout": "IPY_MODEL_a667f6e27dcc4dc09e2244dd740d579f"
          }
        },
        "51afd8fc8a044e97a1780afc5d22b173": {
          "model_module": "@jupyter-widgets/controls",
          "model_name": "HTMLModel",
          "state": {
            "_view_name": "HTMLView",
            "style": "IPY_MODEL_c482d8b9fbe74af3aa4e2094bc451638",
            "_dom_classes": [],
            "description": "",
            "_model_name": "HTMLModel",
            "placeholder": "​",
            "_view_module": "@jupyter-widgets/controls",
            "_model_module_version": "1.5.0",
            "value": "1654784it [00:00, 2549169.51it/s]",
            "_view_count": null,
            "_view_module_version": "1.5.0",
            "description_tooltip": null,
            "_model_module": "@jupyter-widgets/controls",
            "layout": "IPY_MODEL_8aa57427b2634a72b2676163b2d3dc6f"
          }
        },
        "ea2e107674be4597a950eefae5a9aae8": {
          "model_module": "@jupyter-widgets/controls",
          "model_name": "ProgressStyleModel",
          "state": {
            "_view_name": "StyleView",
            "_model_name": "ProgressStyleModel",
            "description_width": "",
            "_view_module": "@jupyter-widgets/base",
            "_model_module_version": "1.5.0",
            "_view_count": null,
            "_view_module_version": "1.2.0",
            "bar_color": null,
            "_model_module": "@jupyter-widgets/controls"
          }
        },
        "a667f6e27dcc4dc09e2244dd740d579f": {
          "model_module": "@jupyter-widgets/base",
          "model_name": "LayoutModel",
          "state": {
            "_view_name": "LayoutView",
            "grid_template_rows": null,
            "right": null,
            "justify_content": null,
            "_view_module": "@jupyter-widgets/base",
            "overflow": null,
            "_model_module_version": "1.2.0",
            "_view_count": null,
            "flex_flow": null,
            "width": null,
            "min_width": null,
            "border": null,
            "align_items": null,
            "bottom": null,
            "_model_module": "@jupyter-widgets/base",
            "top": null,
            "grid_column": null,
            "overflow_y": null,
            "overflow_x": null,
            "grid_auto_flow": null,
            "grid_area": null,
            "grid_template_columns": null,
            "flex": null,
            "_model_name": "LayoutModel",
            "justify_items": null,
            "grid_row": null,
            "max_height": null,
            "align_content": null,
            "visibility": null,
            "align_self": null,
            "height": null,
            "min_height": null,
            "padding": null,
            "grid_auto_rows": null,
            "grid_gap": null,
            "max_width": null,
            "order": null,
            "_view_module_version": "1.2.0",
            "grid_template_areas": null,
            "object_position": null,
            "object_fit": null,
            "grid_auto_columns": null,
            "margin": null,
            "display": null,
            "left": null
          }
        },
        "c482d8b9fbe74af3aa4e2094bc451638": {
          "model_module": "@jupyter-widgets/controls",
          "model_name": "DescriptionStyleModel",
          "state": {
            "_view_name": "StyleView",
            "_model_name": "DescriptionStyleModel",
            "description_width": "",
            "_view_module": "@jupyter-widgets/base",
            "_model_module_version": "1.5.0",
            "_view_count": null,
            "_view_module_version": "1.2.0",
            "_model_module": "@jupyter-widgets/controls"
          }
        },
        "8aa57427b2634a72b2676163b2d3dc6f": {
          "model_module": "@jupyter-widgets/base",
          "model_name": "LayoutModel",
          "state": {
            "_view_name": "LayoutView",
            "grid_template_rows": null,
            "right": null,
            "justify_content": null,
            "_view_module": "@jupyter-widgets/base",
            "overflow": null,
            "_model_module_version": "1.2.0",
            "_view_count": null,
            "flex_flow": null,
            "width": null,
            "min_width": null,
            "border": null,
            "align_items": null,
            "bottom": null,
            "_model_module": "@jupyter-widgets/base",
            "top": null,
            "grid_column": null,
            "overflow_y": null,
            "overflow_x": null,
            "grid_auto_flow": null,
            "grid_area": null,
            "grid_template_columns": null,
            "flex": null,
            "_model_name": "LayoutModel",
            "justify_items": null,
            "grid_row": null,
            "max_height": null,
            "align_content": null,
            "visibility": null,
            "align_self": null,
            "height": null,
            "min_height": null,
            "padding": null,
            "grid_auto_rows": null,
            "grid_gap": null,
            "max_width": null,
            "order": null,
            "_view_module_version": "1.2.0",
            "grid_template_areas": null,
            "object_position": null,
            "object_fit": null,
            "grid_auto_columns": null,
            "margin": null,
            "display": null,
            "left": null
          }
        },
        "de735fce2d354d58848f80c153acb67a": {
          "model_module": "@jupyter-widgets/controls",
          "model_name": "HBoxModel",
          "state": {
            "_view_name": "HBoxView",
            "_dom_classes": [],
            "_model_name": "HBoxModel",
            "_view_module": "@jupyter-widgets/controls",
            "_model_module_version": "1.5.0",
            "_view_count": null,
            "_view_module_version": "1.5.0",
            "box_style": "",
            "layout": "IPY_MODEL_52344a84517549258572c22c2c016ee1",
            "_model_module": "@jupyter-widgets/controls",
            "children": [
              "IPY_MODEL_431088bf7a314b1e9b7c5a68d133ed49",
              "IPY_MODEL_152e664f9ef64ed2843efe356e1a5012"
            ]
          }
        },
        "52344a84517549258572c22c2c016ee1": {
          "model_module": "@jupyter-widgets/base",
          "model_name": "LayoutModel",
          "state": {
            "_view_name": "LayoutView",
            "grid_template_rows": null,
            "right": null,
            "justify_content": null,
            "_view_module": "@jupyter-widgets/base",
            "overflow": null,
            "_model_module_version": "1.2.0",
            "_view_count": null,
            "flex_flow": null,
            "width": null,
            "min_width": null,
            "border": null,
            "align_items": null,
            "bottom": null,
            "_model_module": "@jupyter-widgets/base",
            "top": null,
            "grid_column": null,
            "overflow_y": null,
            "overflow_x": null,
            "grid_auto_flow": null,
            "grid_area": null,
            "grid_template_columns": null,
            "flex": null,
            "_model_name": "LayoutModel",
            "justify_items": null,
            "grid_row": null,
            "max_height": null,
            "align_content": null,
            "visibility": null,
            "align_self": null,
            "height": null,
            "min_height": null,
            "padding": null,
            "grid_auto_rows": null,
            "grid_gap": null,
            "max_width": null,
            "order": null,
            "_view_module_version": "1.2.0",
            "grid_template_areas": null,
            "object_position": null,
            "object_fit": null,
            "grid_auto_columns": null,
            "margin": null,
            "display": null,
            "left": null
          }
        },
        "431088bf7a314b1e9b7c5a68d133ed49": {
          "model_module": "@jupyter-widgets/controls",
          "model_name": "IntProgressModel",
          "state": {
            "_view_name": "ProgressView",
            "style": "IPY_MODEL_64d8f65c52f845e3b185e0534241c810",
            "_dom_classes": [],
            "description": "",
            "_model_name": "IntProgressModel",
            "bar_style": "success",
            "max": 1,
            "_view_module": "@jupyter-widgets/controls",
            "_model_module_version": "1.5.0",
            "value": 1,
            "_view_count": null,
            "_view_module_version": "1.5.0",
            "orientation": "horizontal",
            "min": 0,
            "description_tooltip": null,
            "_model_module": "@jupyter-widgets/controls",
            "layout": "IPY_MODEL_39b09e0c20f440409a9c5d26f2dd9152"
          }
        },
        "152e664f9ef64ed2843efe356e1a5012": {
          "model_module": "@jupyter-widgets/controls",
          "model_name": "HTMLModel",
          "state": {
            "_view_name": "HTMLView",
            "style": "IPY_MODEL_b30c7a8695c54f7aacd3e6014044194c",
            "_dom_classes": [],
            "description": "",
            "_model_name": "HTMLModel",
            "placeholder": "​",
            "_view_module": "@jupyter-widgets/controls",
            "_model_module_version": "1.5.0",
            "value": "8192it [00:00, 50038.94it/s]",
            "_view_count": null,
            "_view_module_version": "1.5.0",
            "description_tooltip": null,
            "_model_module": "@jupyter-widgets/controls",
            "layout": "IPY_MODEL_3ac28548efe6455bbbaacc27028f1176"
          }
        },
        "64d8f65c52f845e3b185e0534241c810": {
          "model_module": "@jupyter-widgets/controls",
          "model_name": "ProgressStyleModel",
          "state": {
            "_view_name": "StyleView",
            "_model_name": "ProgressStyleModel",
            "description_width": "",
            "_view_module": "@jupyter-widgets/base",
            "_model_module_version": "1.5.0",
            "_view_count": null,
            "_view_module_version": "1.2.0",
            "bar_color": null,
            "_model_module": "@jupyter-widgets/controls"
          }
        },
        "39b09e0c20f440409a9c5d26f2dd9152": {
          "model_module": "@jupyter-widgets/base",
          "model_name": "LayoutModel",
          "state": {
            "_view_name": "LayoutView",
            "grid_template_rows": null,
            "right": null,
            "justify_content": null,
            "_view_module": "@jupyter-widgets/base",
            "overflow": null,
            "_model_module_version": "1.2.0",
            "_view_count": null,
            "flex_flow": null,
            "width": null,
            "min_width": null,
            "border": null,
            "align_items": null,
            "bottom": null,
            "_model_module": "@jupyter-widgets/base",
            "top": null,
            "grid_column": null,
            "overflow_y": null,
            "overflow_x": null,
            "grid_auto_flow": null,
            "grid_area": null,
            "grid_template_columns": null,
            "flex": null,
            "_model_name": "LayoutModel",
            "justify_items": null,
            "grid_row": null,
            "max_height": null,
            "align_content": null,
            "visibility": null,
            "align_self": null,
            "height": null,
            "min_height": null,
            "padding": null,
            "grid_auto_rows": null,
            "grid_gap": null,
            "max_width": null,
            "order": null,
            "_view_module_version": "1.2.0",
            "grid_template_areas": null,
            "object_position": null,
            "object_fit": null,
            "grid_auto_columns": null,
            "margin": null,
            "display": null,
            "left": null
          }
        },
        "b30c7a8695c54f7aacd3e6014044194c": {
          "model_module": "@jupyter-widgets/controls",
          "model_name": "DescriptionStyleModel",
          "state": {
            "_view_name": "StyleView",
            "_model_name": "DescriptionStyleModel",
            "description_width": "",
            "_view_module": "@jupyter-widgets/base",
            "_model_module_version": "1.5.0",
            "_view_count": null,
            "_view_module_version": "1.2.0",
            "_model_module": "@jupyter-widgets/controls"
          }
        },
        "3ac28548efe6455bbbaacc27028f1176": {
          "model_module": "@jupyter-widgets/base",
          "model_name": "LayoutModel",
          "state": {
            "_view_name": "LayoutView",
            "grid_template_rows": null,
            "right": null,
            "justify_content": null,
            "_view_module": "@jupyter-widgets/base",
            "overflow": null,
            "_model_module_version": "1.2.0",
            "_view_count": null,
            "flex_flow": null,
            "width": null,
            "min_width": null,
            "border": null,
            "align_items": null,
            "bottom": null,
            "_model_module": "@jupyter-widgets/base",
            "top": null,
            "grid_column": null,
            "overflow_y": null,
            "overflow_x": null,
            "grid_auto_flow": null,
            "grid_area": null,
            "grid_template_columns": null,
            "flex": null,
            "_model_name": "LayoutModel",
            "justify_items": null,
            "grid_row": null,
            "max_height": null,
            "align_content": null,
            "visibility": null,
            "align_self": null,
            "height": null,
            "min_height": null,
            "padding": null,
            "grid_auto_rows": null,
            "grid_gap": null,
            "max_width": null,
            "order": null,
            "_view_module_version": "1.2.0",
            "grid_template_areas": null,
            "object_position": null,
            "object_fit": null,
            "grid_auto_columns": null,
            "margin": null,
            "display": null,
            "left": null
          }
        }
      }
    }
  },
  "cells": [
    {
      "cell_type": "markdown",
      "metadata": {
        "id": "view-in-github",
        "colab_type": "text"
      },
      "source": [
        "<a href=\"https://colab.research.google.com/github/samibahig/IFT6135/blob/main/Copy_of_B_MNIST_example.ipynb\" target=\"_parent\"><img src=\"https://colab.research.google.com/assets/colab-badge.svg\" alt=\"Open In Colab\"/></a>"
      ]
    },
    {
      "cell_type": "markdown",
      "metadata": {
        "id": "jkipDcfoYq4I"
      },
      "source": [
        "## PyTorch Tutorial\n",
        "\n",
        "IFT6135 – Representation Learning\n",
        "\n",
        "A Deep Learning Course, January 2020\n",
        "\n",
        "By Chin-Wei Huang "
      ]
    },
    {
      "cell_type": "code",
      "metadata": {
        "id": "s2ldms6fYp63"
      },
      "source": [
        "import torch\n",
        "import torch.nn as nn\n",
        "import torch.optim as optim\n",
        "\n",
        "import torchvision\n",
        "import torchvision.transforms\n",
        "\n",
        "\n",
        "from_numpy = torch.from_numpy"
      ],
      "execution_count": null,
      "outputs": []
    },
    {
      "cell_type": "code",
      "metadata": {
        "id": "HACEUO4xY2ya",
        "colab": {
          "base_uri": "https://localhost:8080/",
          "height": 34
        },
        "outputId": "d0c6a0a7-9558-4925-b763-9ce3ebcf4628"
      },
      "source": [
        "batch_size = 64\n",
        "num_epochs = 10\n",
        "cuda = torch.cuda.is_available()\n",
        "if cuda:\n",
        "    print('cuda is available')\n",
        "else:\n",
        "    print('cuda is not available')\n",
        "\n",
        "store_every = 1000\n",
        "lr0 = 0.02\n",
        "#model_type = 'MLP'\n",
        "model_type = 'CNN'"
      ],
      "execution_count": null,
      "outputs": [
        {
          "output_type": "stream",
          "text": [
            "cuda is available\n"
          ],
          "name": "stdout"
        }
      ]
    },
    {
      "cell_type": "markdown",
      "metadata": {
        "id": "4dfsuA8yZBDA"
      },
      "source": [
        "Loading data"
      ]
    },
    {
      "cell_type": "code",
      "metadata": {
        "id": "8m38dBJkY6X0",
        "colab": {
          "base_uri": "https://localhost:8080/",
          "height": 403,
          "referenced_widgets": [
            "6931acdf18104ec6afe664ffaae51998",
            "84810542fe0c4cf3a9a2d129ad4eb05e",
            "23d3bacd1fb949fd8ad4ee2bbcbb53c0",
            "7b2f4f517b474805afa17a3cceab84f0",
            "4c77dcac5fb84ea7b945fadbe54a260f",
            "6f183ef0a5094a0dbb713ede35ade216",
            "fbbb0906bc6b42e1bb3469e4aa6a2120",
            "e9a176306f384d0ea9a416262a83c5d1",
            "7f5f2cb6018043c5bf56a4e66372d43f",
            "4636c19005494e0392b5000281551494",
            "04733d31eb0d4754b04fbdb0fa34a9f6",
            "e1774dee05e94aa39c43ca1aa9038e85",
            "5388a98520ac4d7789295bd968267034",
            "13559422952441bb88a0e554011ea839",
            "3675d94791cb4165bd6a29a66d0d01b2",
            "340cde5754a1411e9d0c91a474002128",
            "4321484b68ef4d9b9c40bb17dc69ffbd",
            "af4d3b67e054428c94061a5562504a41",
            "fcf7d310df7c427490b2099cb478aaf7",
            "51afd8fc8a044e97a1780afc5d22b173",
            "ea2e107674be4597a950eefae5a9aae8",
            "a667f6e27dcc4dc09e2244dd740d579f",
            "c482d8b9fbe74af3aa4e2094bc451638",
            "8aa57427b2634a72b2676163b2d3dc6f",
            "de735fce2d354d58848f80c153acb67a",
            "52344a84517549258572c22c2c016ee1",
            "431088bf7a314b1e9b7c5a68d133ed49",
            "152e664f9ef64ed2843efe356e1a5012",
            "64d8f65c52f845e3b185e0534241c810",
            "39b09e0c20f440409a9c5d26f2dd9152",
            "b30c7a8695c54f7aacd3e6014044194c",
            "3ac28548efe6455bbbaacc27028f1176"
          ]
        },
        "outputId": "41240c36-f622-4675-f5ae-a54209317f02"
      },
      "source": [
        "mnist_transforms = torchvision.transforms.Compose(\n",
        "        [torchvision.transforms.ToTensor()])\n",
        "mnist_train = torchvision.datasets.MNIST(\n",
        "        root='./data', train=True, \n",
        "        transform=mnist_transforms, download=True)\n",
        "mnist_test = torchvision.datasets.MNIST(\n",
        "        root='./data', train=False, \n",
        "        transform=mnist_transforms, download=True)\n",
        "\n",
        "train_loader = torch.utils.data.DataLoader(\n",
        "        mnist_train, batch_size=batch_size, shuffle=True, num_workers=2)\n",
        "test_loader = torch.utils.data.DataLoader(\n",
        "        mnist_test, batch_size=batch_size, shuffle=True, num_workers=2)\n"
      ],
      "execution_count": null,
      "outputs": [
        {
          "output_type": "stream",
          "text": [
            "Downloading http://yann.lecun.com/exdb/mnist/train-images-idx3-ubyte.gz to ./data/MNIST/raw/train-images-idx3-ubyte.gz\n"
          ],
          "name": "stdout"
        },
        {
          "output_type": "display_data",
          "data": {
            "application/vnd.jupyter.widget-view+json": {
              "model_id": "6931acdf18104ec6afe664ffaae51998",
              "version_minor": 0,
              "version_major": 2
            },
            "text/plain": [
              "HBox(children=(IntProgress(value=1, bar_style='info', max=1), HTML(value='')))"
            ]
          },
          "metadata": {
            "tags": []
          }
        },
        {
          "output_type": "stream",
          "text": [
            "\n",
            "Extracting ./data/MNIST/raw/train-images-idx3-ubyte.gz to ./data/MNIST/raw\n",
            "Downloading http://yann.lecun.com/exdb/mnist/train-labels-idx1-ubyte.gz to ./data/MNIST/raw/train-labels-idx1-ubyte.gz\n"
          ],
          "name": "stdout"
        },
        {
          "output_type": "display_data",
          "data": {
            "application/vnd.jupyter.widget-view+json": {
              "model_id": "7f5f2cb6018043c5bf56a4e66372d43f",
              "version_minor": 0,
              "version_major": 2
            },
            "text/plain": [
              "HBox(children=(IntProgress(value=1, bar_style='info', max=1), HTML(value='')))"
            ]
          },
          "metadata": {
            "tags": []
          }
        },
        {
          "output_type": "stream",
          "text": [
            "\n",
            "Extracting ./data/MNIST/raw/train-labels-idx1-ubyte.gz to ./data/MNIST/raw\n",
            "Downloading http://yann.lecun.com/exdb/mnist/t10k-images-idx3-ubyte.gz to ./data/MNIST/raw/t10k-images-idx3-ubyte.gz\n"
          ],
          "name": "stdout"
        },
        {
          "output_type": "display_data",
          "data": {
            "application/vnd.jupyter.widget-view+json": {
              "model_id": "4321484b68ef4d9b9c40bb17dc69ffbd",
              "version_minor": 0,
              "version_major": 2
            },
            "text/plain": [
              "HBox(children=(IntProgress(value=1, bar_style='info', max=1), HTML(value='')))"
            ]
          },
          "metadata": {
            "tags": []
          }
        },
        {
          "output_type": "stream",
          "text": [
            "\n",
            "Extracting ./data/MNIST/raw/t10k-images-idx3-ubyte.gz to ./data/MNIST/raw\n",
            "Downloading http://yann.lecun.com/exdb/mnist/t10k-labels-idx1-ubyte.gz to ./data/MNIST/raw/t10k-labels-idx1-ubyte.gz\n"
          ],
          "name": "stdout"
        },
        {
          "output_type": "display_data",
          "data": {
            "application/vnd.jupyter.widget-view+json": {
              "model_id": "de735fce2d354d58848f80c153acb67a",
              "version_minor": 0,
              "version_major": 2
            },
            "text/plain": [
              "HBox(children=(IntProgress(value=1, bar_style='info', max=1), HTML(value='')))"
            ]
          },
          "metadata": {
            "tags": []
          }
        },
        {
          "output_type": "stream",
          "text": [
            "\n",
            "Extracting ./data/MNIST/raw/t10k-labels-idx1-ubyte.gz to ./data/MNIST/raw\n",
            "Processing...\n",
            "Done!\n"
          ],
          "name": "stdout"
        }
      ]
    },
    {
      "cell_type": "markdown",
      "metadata": {
        "id": "2YKr-TXTZNHD"
      },
      "source": [
        "Defining customized modules"
      ]
    },
    {
      "cell_type": "code",
      "metadata": {
        "id": "830UZGxSZCj2"
      },
      "source": [
        "class ResLinear(nn.Module):\n",
        "\n",
        "    def __init__(self, in_features, out_features, activation=nn.ReLU()):\n",
        "        super(ResLinear, self).__init__()\n",
        "        \n",
        "        self.in_features = in_features\n",
        "        self.out_features = out_features\n",
        "        self.activation = activation\n",
        "        \n",
        "        self.linear = nn.Linear(in_features, out_features)\n",
        "        if in_features != out_features:\n",
        "            self.project_linear = nn.Linear(in_features, out_features)\n",
        "        \n",
        "    def forward(self, x):\n",
        "        inner = self.activation(self.linear(x))\n",
        "        if self.in_features != self.out_features:\n",
        "            skip = self.project_linear(x)\n",
        "        else:\n",
        "            skip = x\n",
        "        return inner + skip\n",
        "\n",
        "\n",
        "class Flatten(nn.Module):\n",
        "    def forward(self, x):\n",
        "        x = x.view(x.size(0), -1)\n",
        "        return x"
      ],
      "execution_count": null,
      "outputs": []
    },
    {
      "cell_type": "markdown",
      "metadata": {
        "id": "-FV5DdhIZQIV"
      },
      "source": [
        "Building model"
      ]
    },
    {
      "cell_type": "code",
      "metadata": {
        "id": "fMQyGaKKZRw4"
      },
      "source": [
        "if model_type == 'MLP':        \n",
        "    model = nn.Sequential(\n",
        "        ResLinear(784, 312),\n",
        "        nn.ReLU(),\n",
        "        ResLinear(312, 312),\n",
        "        nn.ReLU(),\n",
        "        ResLinear(312, 10)\n",
        "    )\n",
        "elif model_type == 'CNN':\n",
        "    model = nn.Sequential(\n",
        "        nn.Conv2d(1, 16, 5),\n",
        "        nn.ReLU(),\n",
        "        nn.MaxPool2d(2),\n",
        "        nn.Conv2d(16, 16, 5),\n",
        "        nn.ReLU(),\n",
        "        nn.MaxPool2d(2),\n",
        "        Flatten(),\n",
        "        ResLinear(256, 100),\n",
        "        nn.ReLU(),\n",
        "        ResLinear(100, 10)\n",
        "    )\n",
        "\n",
        "if cuda:\n",
        "    model = model.cuda()\n",
        "\n",
        "criterion = nn.CrossEntropyLoss()\n",
        "optimizer = optim.SGD(model.parameters(), lr=lr0)"
      ],
      "execution_count": null,
      "outputs": []
    },
    {
      "cell_type": "markdown",
      "metadata": {
        "id": "AgblR1dpZgYR"
      },
      "source": [
        "Learning rate schedule"
      ]
    },
    {
      "cell_type": "code",
      "metadata": {
        "id": "h2uESK6jZSGQ"
      },
      "source": [
        "def adjust_lr(optimizer, epoch, total_epochs):\n",
        "    lr = lr0 * (0.1 ** (epoch / float(total_epochs)))\n",
        "    for param_group in optimizer.param_groups:\n",
        "        param_group['lr'] = lr\n",
        "# `torch.optim.lr_scheduler` can be your good friend"
      ],
      "execution_count": null,
      "outputs": []
    },
    {
      "cell_type": "markdown",
      "metadata": {
        "id": "IS118esnZm8U"
      },
      "source": [
        "Evaluation functions"
      ]
    },
    {
      "cell_type": "code",
      "metadata": {
        "id": "tfJxfwKkZoP0"
      },
      "source": [
        "def accuracy(proba, y):\n",
        "    correct = torch.eq(proba.max(1)[1], y).sum().type(torch.FloatTensor)\n",
        "    return correct / y.size(0)\n",
        "    \n",
        "    \n",
        "def evaluate(dataset_loader, criterion):\n",
        "    LOSSES = 0\n",
        "    COUNTER = 0\n",
        "    for batch in dataset_loader:\n",
        "        optimizer.zero_grad()\n",
        "\n",
        "        x, y = batch\n",
        "        if model_type == 'MLP':\n",
        "            x = x.view(-1,784)\n",
        "            y = y.view(-1)\n",
        "        elif model_type == 'CNN':\n",
        "            x = x.view(-1,1,28,28)\n",
        "            y = y.view(-1)\n",
        "        if cuda:\n",
        "            x = x.cuda()\n",
        "            y = y.cuda()\n",
        "            \n",
        "        loss = criterion(model(x), y)\n",
        "        n = y.size(0)\n",
        "        LOSSES += loss.sum().data.cpu().numpy() * n\n",
        "        COUNTER += n\n",
        "    return LOSSES / float(COUNTER)"
      ],
      "execution_count": null,
      "outputs": []
    },
    {
      "cell_type": "markdown",
      "metadata": {
        "id": "5Qmpwu48Zp0J"
      },
      "source": [
        "Training loop"
      ]
    },
    {
      "cell_type": "code",
      "metadata": {
        "id": "mmGqCNryZpBd",
        "colab": {
          "base_uri": "https://localhost:8080/",
          "height": 1000
        },
        "outputId": "b61d6ff3-8906-4999-97f7-fe6e01091833"
      },
      "source": [
        "LOSSES = 0\n",
        "COUNTER = 0\n",
        "ITERATIONS = 0\n",
        "learning_curve_nll_train = list()\n",
        "learning_curve_nll_test = list()\n",
        "learning_curve_acc_train = list()\n",
        "learning_curve_acc_test = list()\n",
        "for e in range(num_epochs):\n",
        "    for batch in train_loader:\n",
        "        optimizer.zero_grad()\n",
        "\n",
        "        x, y = batch\n",
        "        if model_type == 'MLP':\n",
        "            x = x.view(-1,784)\n",
        "            y = y.view(-1)\n",
        "        elif model_type == 'CNN':\n",
        "            x = x.view(-1,1,28,28)\n",
        "            y = y.view(-1)\n",
        "        if cuda:\n",
        "            x = x.cuda()\n",
        "            y = y.cuda()\n",
        "            \n",
        "        loss = criterion(model(x), y)\n",
        "        loss.backward()\n",
        "        optimizer.step()\n",
        "        \n",
        "        n = y.size(0)\n",
        "        LOSSES += loss.sum().data.cpu().numpy() * n\n",
        "        COUNTER += n\n",
        "        ITERATIONS += 1\n",
        "        if ITERATIONS%(store_every/5) == 0:\n",
        "            avg_loss = LOSSES / float(COUNTER)\n",
        "            LOSSES = 0\n",
        "            COUNTER = 0\n",
        "            print(\" Iteration {}: TRAIN {}\".format(\n",
        "                ITERATIONS, avg_loss))\n",
        "    \n",
        "        if ITERATIONS%(store_every) == 0:     \n",
        "            train_loss = evaluate(train_loader, criterion)\n",
        "            learning_curve_nll_train.append(train_loss)\n",
        "            test_loss = evaluate(test_loader, criterion)\n",
        "            learning_curve_nll_test.append(test_loss)\n",
        "\n",
        "            train_acc = evaluate(train_loader, accuracy)\n",
        "            learning_curve_acc_train.append(train_acc)\n",
        "            test_acc = evaluate(test_loader, accuracy)\n",
        "            learning_curve_acc_test.append(test_acc)\n",
        "                    \n",
        "            print(\" [NLL] TRAIN {} / TEST {}\".format(\n",
        "                train_loss, test_loss))\n",
        "            print(\" [ACC] TRAIN {} / TEST {}\".format(\n",
        "                train_acc, test_acc))\n",
        "    \n",
        "    adjust_lr(optimizer, e+1, num_epochs)\n",
        "    "
      ],
      "execution_count": null,
      "outputs": [
        {
          "output_type": "stream",
          "text": [
            " Iteration 200: TRAIN 1.520318824648857\n",
            " Iteration 400: TRAIN 0.3850734208524227\n",
            " Iteration 600: TRAIN 0.27660356774926187\n",
            " Iteration 800: TRAIN 0.21409447029232978\n",
            " Iteration 1000: TRAIN 0.1745043359976962\n",
            " [NLL] TRAIN 0.15819642389218014 / TEST 0.14392560935020446\n",
            " [ACC] TRAIN 0.9519 / TEST 0.9569\n",
            " Iteration 1200: TRAIN 0.14928090954199433\n",
            " Iteration 1400: TRAIN 0.13308555575087666\n",
            " Iteration 1600: TRAIN 0.12063274828717113\n",
            " Iteration 1800: TRAIN 0.11360926663503051\n",
            " Iteration 2000: TRAIN 0.10297705388084091\n",
            " [NLL] TRAIN 0.09453692270119984 / TEST 0.08769748072624206\n",
            " [ACC] TRAIN 0.9717 / TEST 0.973\n",
            " Iteration 2200: TRAIN 0.09601676048710943\n",
            " Iteration 2400: TRAIN 0.09410294089466334\n",
            " Iteration 2600: TRAIN 0.08728676753118635\n",
            " Iteration 2800: TRAIN 0.08943277271464467\n",
            " Iteration 3000: TRAIN 0.08232510442796506\n",
            " [NLL] TRAIN 0.08188132616678874 / TEST 0.07235478546619416\n",
            " [ACC] TRAIN 0.9749166666666667 / TEST 0.9774\n",
            " Iteration 3200: TRAIN 0.07795661579817534\n",
            " Iteration 3400: TRAIN 0.07553317673504352\n",
            " Iteration 3600: TRAIN 0.07465872198343276\n",
            " Iteration 3800: TRAIN 0.07181778107594727\n",
            " Iteration 4000: TRAIN 0.07594662562012672\n",
            " [NLL] TRAIN 0.06658754318157832 / TEST 0.06508902688026429\n",
            " [ACC] TRAIN 0.9800166666666666 / TEST 0.9801\n",
            " Iteration 4200: TRAIN 0.06009198233485222\n",
            " Iteration 4400: TRAIN 0.06987559979781509\n",
            " Iteration 4600: TRAIN 0.06645884538069367\n",
            " Iteration 4800: TRAIN 0.06434323410865359\n",
            " Iteration 5000: TRAIN 0.06161057064309716\n",
            " [NLL] TRAIN 0.06338516754309337 / TEST 0.05877169382572174\n",
            " [ACC] TRAIN 0.9808 / TEST 0.9823\n",
            " Iteration 5200: TRAIN 0.05879754951223731\n",
            " Iteration 5400: TRAIN 0.06034336503595114\n",
            " Iteration 5600: TRAIN 0.06257608184590936\n",
            " Iteration 5800: TRAIN 0.05795947374556597\n",
            " Iteration 6000: TRAIN 0.053134704455733296\n",
            " [NLL] TRAIN 0.05664393323659897 / TEST 0.05616859035491943\n",
            " [ACC] TRAIN 0.9830666666666666 / TEST 0.9826\n",
            " Iteration 6200: TRAIN 0.058274113796651365\n",
            " Iteration 6400: TRAIN 0.05927232330664992\n",
            " Iteration 6600: TRAIN 0.05636456134474666\n",
            " Iteration 6800: TRAIN 0.05253721665591002\n",
            " Iteration 7000: TRAIN 0.05140302618965507\n",
            " [NLL] TRAIN 0.051424881001313524 / TEST 0.05059802424907684\n",
            " [ACC] TRAIN 0.9846 / TEST 0.9841\n",
            " Iteration 7200: TRAIN 0.05341796319931746\n",
            " Iteration 7400: TRAIN 0.05609863173216581\n",
            " Iteration 7600: TRAIN 0.05500110046457229\n",
            " Iteration 7800: TRAIN 0.04666740855202079\n",
            " Iteration 8000: TRAIN 0.05146794700995087\n",
            " [NLL] TRAIN 0.04947339601914088 / TEST 0.04943542320728302\n",
            " [ACC] TRAIN 0.9854333333333334 / TEST 0.9849\n",
            " Iteration 8200: TRAIN 0.05125350851565599\n",
            " Iteration 8400: TRAIN 0.05373338744044304\n",
            " Iteration 8600: TRAIN 0.052674128615617155\n",
            " Iteration 8800: TRAIN 0.05084375670179725\n",
            " Iteration 9000: TRAIN 0.05121297216042876\n",
            " [NLL] TRAIN 0.04835923050244649 / TEST 0.04978896956443787\n",
            " [ACC] TRAIN 0.9854666666666667 / TEST 0.9851\n",
            " Iteration 9200: TRAIN 0.048050797190517185\n"
          ],
          "name": "stdout"
        }
      ]
    },
    {
      "cell_type": "code",
      "metadata": {
        "id": "DSejvQRCZvmx",
        "colab": {
          "base_uri": "https://localhost:8080/",
          "height": 231
        },
        "outputId": "32a6af62-6ad1-4758-c0ac-9078ba58b083"
      },
      "source": [
        "import numpy as np\n",
        "import matplotlib.pyplot as plt\n",
        "\n",
        "cnt=np.arange(10)\n",
        "plt.plot(cnt, train_accuracy)\n",
        "plt.title(\"Training accuracy Curve (batch_size=64, lr=0.02)\")\n",
        "plt.xlabel(\"Iterations\")\n",
        "plt.ylabel(\"Training accuracy\")\n",
        "plt.show()\n",
        "plt.plot(cnt,train_accuracy)\n",
        "plt.title(\"Training loss Curve (batch_size=64, lr=0.02)\")\n",
        "plt.xlabel(\"Iterations\")\n",
        "plt.ylabel(\"Training loss\")\n",
        "plt.show()"
      ],
      "execution_count": null,
      "outputs": [
        {
          "output_type": "error",
          "ename": "NameError",
          "evalue": "ignored",
          "traceback": [
            "\u001b[0;31m---------------------------------------------------------------------------\u001b[0m",
            "\u001b[0;31mNameError\u001b[0m                                 Traceback (most recent call last)",
            "\u001b[0;32m<ipython-input-14-c1b0876522d1>\u001b[0m in \u001b[0;36m<module>\u001b[0;34m()\u001b[0m\n\u001b[1;32m      3\u001b[0m \u001b[0;34m\u001b[0m\u001b[0m\n\u001b[1;32m      4\u001b[0m \u001b[0mcnt\u001b[0m\u001b[0;34m=\u001b[0m\u001b[0mnp\u001b[0m\u001b[0;34m.\u001b[0m\u001b[0marange\u001b[0m\u001b[0;34m(\u001b[0m\u001b[0;36m10\u001b[0m\u001b[0;34m)\u001b[0m\u001b[0;34m\u001b[0m\u001b[0;34m\u001b[0m\u001b[0m\n\u001b[0;32m----> 5\u001b[0;31m \u001b[0mplt\u001b[0m\u001b[0;34m.\u001b[0m\u001b[0mplot\u001b[0m\u001b[0;34m(\u001b[0m\u001b[0mcnt\u001b[0m\u001b[0;34m,\u001b[0m \u001b[0mtrain_accuracy\u001b[0m\u001b[0;34m)\u001b[0m\u001b[0;34m\u001b[0m\u001b[0;34m\u001b[0m\u001b[0m\n\u001b[0m\u001b[1;32m      6\u001b[0m \u001b[0mplt\u001b[0m\u001b[0;34m.\u001b[0m\u001b[0mtitle\u001b[0m\u001b[0;34m(\u001b[0m\u001b[0;34m\"Training accuracy Curve (batch_size=64, lr=0.02)\"\u001b[0m\u001b[0;34m)\u001b[0m\u001b[0;34m\u001b[0m\u001b[0;34m\u001b[0m\u001b[0m\n\u001b[1;32m      7\u001b[0m \u001b[0mplt\u001b[0m\u001b[0;34m.\u001b[0m\u001b[0mxlabel\u001b[0m\u001b[0;34m(\u001b[0m\u001b[0;34m\"Iterations\"\u001b[0m\u001b[0;34m)\u001b[0m\u001b[0;34m\u001b[0m\u001b[0;34m\u001b[0m\u001b[0m\n",
            "\u001b[0;31mNameError\u001b[0m: name 'train_accuracy' is not defined"
          ]
        }
      ]
    }
  ]
}