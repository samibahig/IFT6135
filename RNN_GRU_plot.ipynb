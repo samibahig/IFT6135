{
  "nbformat": 4,
  "nbformat_minor": 0,
  "metadata": {
    "colab": {
      "name": "RNN_GRU.plot",
      "provenance": [],
      "collapsed_sections": [],
      "toc_visible": true,
      "include_colab_link": true
    },
    "kernelspec": {
      "name": "python3",
      "display_name": "Python 3"
    },
    "accelerator": "GPU"
  },
  "cells": [
    {
      "cell_type": "markdown",
      "metadata": {
        "id": "view-in-github",
        "colab_type": "text"
      },
      "source": [
        "<a href=\"https://colab.research.google.com/github/samibahig/IFT6135/blob/main/RNN_GRU_plot.ipynb\" target=\"_parent\"><img src=\"https://colab.research.google.com/assets/colab-badge.svg\" alt=\"Open In Colab\"/></a>"
      ]
    },
    {
      "cell_type": "code",
      "metadata": {
        "id": "0O09Fs8ygD-Q",
        "colab": {
          "base_uri": "https://localhost:8080/",
          "height": 350
        },
        "outputId": "307e122a-7607-42a5-f9f7-ca2128a9de62"
      },
      "source": [
        "import matplotlib.pyplot as plt\n",
        "import numpy as np\n",
        "import os\n",
        "RNN_ADAM = ''\n",
        "GRU_SGD_LR = 'GRU_SGD_LR_SCHEDULE_model=GRU_optimizer=SGD_LR_SCHEDULE_initial_lr=10_batch_size=20_seq_len=35_hidden_size=1500_num_layers=2_dp_keep_prob=0.35_save_best_0'\n",
        "TX_SGD_LR = 'GRU_Adam_lr=0.001_batch_size=128,  TRANSFORMER_SGD_LR_SCHEDULE_model=TRANSFORMER_optimizer=SGD_LR_SCHEDULE_initial_lr=20_batch_size=128_seq_len=35_hidden_size=512_num_layers=6_dp_keep_prob=0.9_save_best_0'\n",
        "\n",
        "#dirs = ['/content/drive/My Drive/Colab Notebooks/3.2GRU', '/content/drive/My Drive/Colab Notebooks/3.2GRU', '/content/drive/My Drive/Colab Notebooks/3.2GRU']\n",
        "labels = ['GRU_ADAM_lr=0.001_batch_size=128_n_2_hidden_size=256', 'GRU_SGD_lr=lr=10.0_batch_size=128_hidden_size=512_n_2', 'GRU_ADAM_lr=0.001_batch_size=20_hidden_size=512_n_2']\n",
        "#colors = ['C'+str(i+1) for i in range(len(dirs))]\n",
        "\n",
        "directory = os.fsencode('/Untitled Folder/')\n",
        "\n",
        "# Read learning_curves\n",
        "train_ppls_all, val_ppls_all, epochs_all, times_all = [], [], [], []\n",
        "#for d in dirs:\n",
        "for file in os.listdir(directory):\n",
        "    #lc_path = os.path.join(d, 'learning_curves.npy')\n",
        "    #a = np.load(lc_path)[()]\n",
        "    filename = os.fsdecode(file)\n",
        "    a= np.load('/Untitled Folder/'+ filename + '/learning_curves.npy', allow_pickle = True )\n",
        "    \n",
        "    train_ppls, val_ppls, times = a.item(0)['train_ppls'], a.item(0)['val_ppls'], a.item(0)['times']\n",
        "    epochs = np.arange(len(times)) + 1\n",
        "    times = np.cumsum(times)\n",
        "    train_ppls_all.append(train_ppls)\n",
        "    val_ppls_all.append(val_ppls)\n",
        "    epochs_all.append(epochs)\n",
        "    times_all.append(times)\n",
        "\n",
        "\n",
        "\n",
        "\n",
        "\n",
        "\n",
        "\n",
        "# Plot\n",
        "plt.figure(figsize=(10, 12))\n",
        "epochs=np.arange(1,21)\n",
        "# vs epochs\n",
        "plt.subplot(211)\n",
        "for i in range(len( train_ppls_all)):\n",
        "    plt.plot(epochs, train_ppls_all[i], '--o', mfc='none', alpha=0.7, label=labels[i]+\" Train PPL\")\n",
        "    plt.plot(epochs, val_ppls_all[i], '-o', alpha=0.7,  label=labels[i]+\" Val PPL\")\n",
        "    plt.legend()\n",
        "    # plt.yscale(\"symlog\")\n",
        "    plt.ylim([0, 1000])\n",
        "    plt.title(\"PPL sv Epochs\")\n",
        "    # plt.ylabel(\"PPL (in log scale)\")\n",
        "    plt.ylabel(\"PPL\")\n",
        "    plt.xlabel(\"Epochs\")\n",
        "\n",
        "\n",
        "# vs times\n",
        "plt.subplot(212)\n",
        "for i in range(len( train_ppls_all)):\n",
        "    plt.plot(times_all[i], train_ppls_all[i], '--o', mfc='none', alpha=0.7, label=labels[i]+\" Train PPL\")\n",
        "    plt.plot(times_all[i], val_ppls_all[i], '-o', alpha=0.7 , label=labels[i]+\" Val PPL\")\n",
        "    plt.legend()\n",
        "    # plt.yscale(\"symlog\")\n",
        "    plt.ylim([0, 1000])\n",
        "    plt.title(\"PPL vs Wall clock time\")\n",
        "    # plt.ylabel(\"PPL (in log scale)\")\n",
        "    plt.ylabel(\"PPL\")\n",
        "    plt.xlabel(\"Wall clock time (seconds)\")\n",
        "\n",
        "# plt.subplots_adjust(hspace=.5)\n",
        "plt.show()\n",
        "plt.savefig('1_model_compare.png', bbox_inches='tight', pad_inches=0.2)\n",
        "plt.clf()\n",
        "\n"
      ],
      "execution_count": null,
      "outputs": [
        {
          "output_type": "error",
          "ename": "NotADirectoryError",
          "evalue": "ignored",
          "traceback": [
            "\u001b[0;31m---------------------------------------------------------------------------\u001b[0m",
            "\u001b[0;31mNotADirectoryError\u001b[0m                        Traceback (most recent call last)",
            "\u001b[0;32m<ipython-input-8-9db8686f5317>\u001b[0m in \u001b[0;36m<module>\u001b[0;34m()\u001b[0m\n\u001b[1;32m     19\u001b[0m     \u001b[0;31m#a = np.load(lc_path)[()]\u001b[0m\u001b[0;34m\u001b[0m\u001b[0;34m\u001b[0m\u001b[0;34m\u001b[0m\u001b[0m\n\u001b[1;32m     20\u001b[0m     \u001b[0mfilename\u001b[0m \u001b[0;34m=\u001b[0m \u001b[0mos\u001b[0m\u001b[0;34m.\u001b[0m\u001b[0mfsdecode\u001b[0m\u001b[0;34m(\u001b[0m\u001b[0mfile\u001b[0m\u001b[0;34m)\u001b[0m\u001b[0;34m\u001b[0m\u001b[0;34m\u001b[0m\u001b[0m\n\u001b[0;32m---> 21\u001b[0;31m     \u001b[0ma\u001b[0m\u001b[0;34m=\u001b[0m \u001b[0mnp\u001b[0m\u001b[0;34m.\u001b[0m\u001b[0mload\u001b[0m\u001b[0;34m(\u001b[0m\u001b[0;34m'/Untitled Folder/'\u001b[0m\u001b[0;34m+\u001b[0m \u001b[0mfilename\u001b[0m \u001b[0;34m+\u001b[0m \u001b[0;34m'/learning_curves.npy'\u001b[0m\u001b[0;34m,\u001b[0m \u001b[0mallow_pickle\u001b[0m \u001b[0;34m=\u001b[0m \u001b[0;32mTrue\u001b[0m \u001b[0;34m)\u001b[0m\u001b[0;34m\u001b[0m\u001b[0;34m\u001b[0m\u001b[0m\n\u001b[0m\u001b[1;32m     22\u001b[0m \u001b[0;34m\u001b[0m\u001b[0m\n\u001b[1;32m     23\u001b[0m     \u001b[0mtrain_ppls\u001b[0m\u001b[0;34m,\u001b[0m \u001b[0mval_ppls\u001b[0m\u001b[0;34m,\u001b[0m \u001b[0mtimes\u001b[0m \u001b[0;34m=\u001b[0m \u001b[0ma\u001b[0m\u001b[0;34m.\u001b[0m\u001b[0mitem\u001b[0m\u001b[0;34m(\u001b[0m\u001b[0;36m0\u001b[0m\u001b[0;34m)\u001b[0m\u001b[0;34m[\u001b[0m\u001b[0;34m'train_ppls'\u001b[0m\u001b[0;34m]\u001b[0m\u001b[0;34m,\u001b[0m \u001b[0ma\u001b[0m\u001b[0;34m.\u001b[0m\u001b[0mitem\u001b[0m\u001b[0;34m(\u001b[0m\u001b[0;36m0\u001b[0m\u001b[0;34m)\u001b[0m\u001b[0;34m[\u001b[0m\u001b[0;34m'val_ppls'\u001b[0m\u001b[0;34m]\u001b[0m\u001b[0;34m,\u001b[0m \u001b[0ma\u001b[0m\u001b[0;34m.\u001b[0m\u001b[0mitem\u001b[0m\u001b[0;34m(\u001b[0m\u001b[0;36m0\u001b[0m\u001b[0;34m)\u001b[0m\u001b[0;34m[\u001b[0m\u001b[0;34m'times'\u001b[0m\u001b[0;34m]\u001b[0m\u001b[0;34m\u001b[0m\u001b[0;34m\u001b[0m\u001b[0m\n",
            "\u001b[0;32m/usr/local/lib/python3.6/dist-packages/numpy/lib/npyio.py\u001b[0m in \u001b[0;36mload\u001b[0;34m(file, mmap_mode, allow_pickle, fix_imports, encoding)\u001b[0m\n\u001b[1;32m    426\u001b[0m         \u001b[0mown_fid\u001b[0m \u001b[0;34m=\u001b[0m \u001b[0;32mFalse\u001b[0m\u001b[0;34m\u001b[0m\u001b[0;34m\u001b[0m\u001b[0m\n\u001b[1;32m    427\u001b[0m     \u001b[0;32melse\u001b[0m\u001b[0;34m:\u001b[0m\u001b[0;34m\u001b[0m\u001b[0;34m\u001b[0m\u001b[0m\n\u001b[0;32m--> 428\u001b[0;31m         \u001b[0mfid\u001b[0m \u001b[0;34m=\u001b[0m \u001b[0mopen\u001b[0m\u001b[0;34m(\u001b[0m\u001b[0mos_fspath\u001b[0m\u001b[0;34m(\u001b[0m\u001b[0mfile\u001b[0m\u001b[0;34m)\u001b[0m\u001b[0;34m,\u001b[0m \u001b[0;34m\"rb\"\u001b[0m\u001b[0;34m)\u001b[0m\u001b[0;34m\u001b[0m\u001b[0;34m\u001b[0m\u001b[0m\n\u001b[0m\u001b[1;32m    429\u001b[0m         \u001b[0mown_fid\u001b[0m \u001b[0;34m=\u001b[0m \u001b[0;32mTrue\u001b[0m\u001b[0;34m\u001b[0m\u001b[0;34m\u001b[0m\u001b[0m\n\u001b[1;32m    430\u001b[0m \u001b[0;34m\u001b[0m\u001b[0m\n",
            "\u001b[0;31mNotADirectoryError\u001b[0m: [Errno 20] Not a directory: '/Untitled Folder/exp_config.txt/learning_curves.npy'"
          ]
        }
      ]
    },
    {
      "cell_type": "markdown",
      "metadata": {
        "id": "gbgZVpmQLxHM"
      },
      "source": [
        "# New Section"
      ]
    },
    {
      "cell_type": "code",
      "metadata": {
        "id": "xWOeYlT1Um-1",
        "colab": {
          "base_uri": "https://localhost:8080/",
          "height": 312
        },
        "outputId": "b515728b-946b-45fc-cc06-65d542066705"
      },
      "source": [
        "\n",
        "import matplotlib.pyplot as plt\n",
        "import numpy as np\n",
        "import os\n",
        "\n",
        "\n",
        "rnn= np.load('/content/drive/My Drive/Colab Notebooks/BestFiles/rnn_gradient.npy', allow_pickle = True )\n",
        "gru= np.load('/content/drive/My Drive/Colab Notebooks/BestFiles/gru_gradient.npy', allow_pickle = True )\n",
        "x=np.arange(1,36)\n",
        "plt.plot(x, rnn)\n",
        "plt.plot(x,gru)\n",
        "plt.ylabel(\"Average Gradient of the Loss\")\n",
        "plt.xlabel(\"time-step t\")\n",
        "plt.title(\"Euclidian Norm of Gradient of the Loss as function of t for RNN and GRU\")\n",
        "plt.legend(['RNN', 'GRU'])"
      ],
      "execution_count": null,
      "outputs": [
        {
          "output_type": "execute_result",
          "data": {
            "text/plain": [
              "<matplotlib.legend.Legend at 0x7f0784827940>"
            ]
          },
          "metadata": {
            "tags": []
          },
          "execution_count": 3
        },
        {
          "output_type": "display_data",
          "data": {
            "image/png": "[encoded data removed]",
            "text/plain": [
              "<Figure size 432x288 with 1 Axes>"
            ]
          },
          "metadata": {
            "tags": []
          }
        }
      ]
    },
    {
      "cell_type": "code",
      "metadata": {
        "id": "u3VUmWSqD4vy",
        "colab": {
          "base_uri": "https://localhost:8080/",
          "height": 122
        },
        "outputId": "aff64841-0ea2-4471-a53a-463738351624"
      },
      "source": [
        "from google.colab import drive\n",
        "drive.mount('/content/drive')"
      ],
      "execution_count": null,
      "outputs": [
        {
          "output_type": "stream",
          "text": [
            "Go to this URL in a browser: https://accounts.google.com/o/oauth2/auth?client_id=947318989803-6bn6qk8qdgf4n4g3pfee6491hc0brc4i.apps.googleusercontent.com&redirect_uri=urn%3aietf%3awg%3aoauth%3a2.0%3aoob&response_type=code&scope=email%20https%3a%2f%2fwww.googleapis.com%2fauth%2fdocs.test%20https%3a%2f%2fwww.googleapis.com%2fauth%2fdrive%20https%3a%2f%2fwww.googleapis.com%2fauth%2fdrive.photos.readonly%20https%3a%2f%2fwww.googleapis.com%2fauth%2fpeopleapi.readonly\n",
            "\n",
            "Enter your authorization code:\n",
            "··········\n",
            "Mounted at /content/drive\n"
          ],
          "name": "stdout"
        }
      ]
    },
    {
      "cell_type": "markdown",
      "metadata": {
        "id": "hXY1yNzimGMK"
      },
      "source": [
        "# New Section"
      ]
    },
    {
      "cell_type": "markdown",
      "metadata": {
        "id": "a9p4u8RomIkc"
      },
      "source": [
        "# New Section"
      ]
    },
    {
      "cell_type": "markdown",
      "metadata": {
        "id": "s8ZacOaHmJA1"
      },
      "source": [
        "# New Section"
      ]
    },
    {
      "cell_type": "markdown",
      "metadata": {
        "id": "SaBsHCYwmJYh"
      },
      "source": [
        "# New Section"
      ]
    }
  ]
}