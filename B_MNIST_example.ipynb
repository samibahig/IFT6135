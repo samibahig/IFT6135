{
  "nbformat": 4,
  "nbformat_minor": 0,
  "metadata": {
    "colab": {
      "name": "B. MNIST example",
      "provenance": [],
      "include_colab_link": true
    },
    "kernelspec": {
      "name": "python3",
      "display_name": "Python 3"
    },
    "accelerator": "GPU"
  },
  "cells": [
    {
      "cell_type": "markdown",
      "metadata": {
        "id": "view-in-github",
        "colab_type": "text"
      },
      "source": [
        "<a href=\"https://colab.research.google.com/github/samibahig/IFT6135/blob/main/B_MNIST_example.ipynb\" target=\"_parent\"><img src=\"https://colab.research.google.com/assets/colab-badge.svg\" alt=\"Open In Colab\"/></a>"
      ]
    },
    {
      "cell_type": "markdown",
      "metadata": {
        "id": "jkipDcfoYq4I"
      },
      "source": [
        "## PyTorch Tutorial\n",
        "\n",
        "IFT6135 – Representation Learning\n",
        "\n",
        "A Deep Learning Course, January 2020\n",
        "\n",
        "By Chin-Wei Huang "
      ]
    },
    {
      "cell_type": "code",
      "metadata": {
        "id": "s2ldms6fYp63"
      },
      "source": [
        "import torch\n",
        "import torch.nn as nn\n",
        "import torch.optim as optim\n",
        "\n",
        "import torchvision\n",
        "import torchvision.transforms\n",
        "\n",
        "\n",
        "from_numpy = torch.from_numpy"
      ],
      "execution_count": null,
      "outputs": []
    },
    {
      "cell_type": "code",
      "metadata": {
        "id": "HACEUO4xY2ya",
        "colab": {
          "base_uri": "https://localhost:8080/",
          "height": 34
        },
        "outputId": "02522c4b-e3f1-4f9d-c680-3b69c5186bb9"
      },
      "source": [
        "batch_size = 64\n",
        "num_epochs = 10\n",
        "cuda = torch.cuda.is_available()\n",
        "if cuda:\n",
        "    print('cuda is available')\n",
        "else:\n",
        "    print('cuda is not available')\n",
        "\n",
        "store_every = 1000\n",
        "lr0 = 0.02\n",
        "#model_type = 'MLP'\n",
        "model_type = 'CNN'"
      ],
      "execution_count": null,
      "outputs": [
        {
          "output_type": "stream",
          "text": [
            "cuda is available\n"
          ],
          "name": "stdout"
        }
      ]
    },
    {
      "cell_type": "markdown",
      "metadata": {
        "id": "4dfsuA8yZBDA"
      },
      "source": [
        "Loading data"
      ]
    },
    {
      "cell_type": "code",
      "metadata": {
        "id": "8m38dBJkY6X0",
        "colab": {
          "base_uri": "https://localhost:8080/",
          "height": 282
        },
        "outputId": "3890417c-2565-4bec-e276-90bc487944a5"
      },
      "source": [
        "mnist_transforms = torchvision.transforms.Compose(\n",
        "        [torchvision.transforms.ToTensor()])\n",
        "mnist_train = torchvision.datasets.MNIST(\n",
        "        root='./data', train=True, \n",
        "        transform=mnist_transforms, download=True)\n",
        "mnist_test = torchvision.datasets.MNIST(\n",
        "        root='./data', train=False, \n",
        "        transform=mnist_transforms, download=True)\n",
        "\n",
        "train_loader = torch.utils.data.DataLoader(\n",
        "        mnist_train, batch_size=batch_size, shuffle=True, num_workers=2)\n",
        "test_loader = torch.utils.data.DataLoader(\n",
        "        mnist_test, batch_size=batch_size, shuffle=True, num_workers=2)\n"
      ],
      "execution_count": null,
      "outputs": [
        {
          "output_type": "stream",
          "text": [
            "  0%|          | 0/9912422 [00:00<?, ?it/s]"
          ],
          "name": "stderr"
        },
        {
          "output_type": "stream",
          "text": [
            "Downloading http://yann.lecun.com/exdb/mnist/train-images-idx3-ubyte.gz to ./data/MNIST/raw/train-images-idx3-ubyte.gz\n"
          ],
          "name": "stdout"
        },
        {
          "output_type": "stream",
          "text": [
            "9920512it [00:00, 20640901.86it/s]                            \n"
          ],
          "name": "stderr"
        },
        {
          "output_type": "stream",
          "text": [
            "Extracting ./data/MNIST/raw/train-images-idx3-ubyte.gz to ./data/MNIST/raw\n"
          ],
          "name": "stdout"
        },
        {
          "output_type": "stream",
          "text": [
            "32768it [00:00, 331475.33it/s]\n",
            "0it [00:00, ?it/s]"
          ],
          "name": "stderr"
        },
        {
          "output_type": "stream",
          "text": [
            "Downloading http://yann.lecun.com/exdb/mnist/train-labels-idx1-ubyte.gz to ./data/MNIST/raw/train-labels-idx1-ubyte.gz\n",
            "Extracting ./data/MNIST/raw/train-labels-idx1-ubyte.gz to ./data/MNIST/raw\n",
            "Downloading http://yann.lecun.com/exdb/mnist/t10k-images-idx3-ubyte.gz to ./data/MNIST/raw/t10k-images-idx3-ubyte.gz\n"
          ],
          "name": "stdout"
        },
        {
          "output_type": "stream",
          "text": [
            "1654784it [00:00, 5370910.99it/s]                           \n",
            "8192it [00:00, 125878.75it/s]\n"
          ],
          "name": "stderr"
        },
        {
          "output_type": "stream",
          "text": [
            "Extracting ./data/MNIST/raw/t10k-images-idx3-ubyte.gz to ./data/MNIST/raw\n",
            "Downloading http://yann.lecun.com/exdb/mnist/t10k-labels-idx1-ubyte.gz to ./data/MNIST/raw/t10k-labels-idx1-ubyte.gz\n",
            "Extracting ./data/MNIST/raw/t10k-labels-idx1-ubyte.gz to ./data/MNIST/raw\n",
            "Processing...\n",
            "Done!\n"
          ],
          "name": "stdout"
        }
      ]
    },
    {
      "cell_type": "markdown",
      "metadata": {
        "id": "2YKr-TXTZNHD"
      },
      "source": [
        "Defining customized modules"
      ]
    },
    {
      "cell_type": "code",
      "metadata": {
        "id": "830UZGxSZCj2"
      },
      "source": [
        "class ResLinear(nn.Module):\n",
        "\n",
        "    def __init__(self, in_features, out_features, activation=nn.ReLU()):\n",
        "        super(ResLinear, self).__init__()\n",
        "        \n",
        "        self.in_features = in_features\n",
        "        self.out_features = out_features\n",
        "        self.activation = activation\n",
        "        \n",
        "        self.linear = nn.Linear(in_features, out_features)\n",
        "        if in_features != out_features:\n",
        "            self.project_linear = nn.Linear(in_features, out_features)\n",
        "        \n",
        "    def forward(self, x):\n",
        "        inner = self.activation(self.linear(x))\n",
        "        if self.in_features != self.out_features:\n",
        "            skip = self.project_linear(x)\n",
        "        else:\n",
        "            skip = x\n",
        "        return inner + skip\n",
        "\n",
        "\n",
        "class Flatten(nn.Module):\n",
        "    def forward(self, x):\n",
        "        x = x.view(x.size(0), -1)\n",
        "        return x"
      ],
      "execution_count": null,
      "outputs": []
    },
    {
      "cell_type": "markdown",
      "metadata": {
        "id": "-FV5DdhIZQIV"
      },
      "source": [
        "Building model"
      ]
    },
    {
      "cell_type": "code",
      "metadata": {
        "id": "fMQyGaKKZRw4"
      },
      "source": [
        "if model_type == 'MLP':        \n",
        "    model = nn.Sequential(\n",
        "        ResLinear(784, 312),\n",
        "        nn.ReLU(),\n",
        "        ResLinear(312, 312),\n",
        "        nn.ReLU(),\n",
        "        ResLinear(312, 10)\n",
        "    )\n",
        "elif model_type == 'CNN':\n",
        "    model = nn.Sequential(\n",
        "        nn.Conv2d(1, 16, 5),\n",
        "        nn.ReLU(),\n",
        "        nn.MaxPool2d(2),\n",
        "        nn.Conv2d(16, 16, 5),\n",
        "        nn.ReLU(),\n",
        "        nn.MaxPool2d(2),\n",
        "        Flatten(),\n",
        "        ResLinear(256, 100),\n",
        "        nn.ReLU(),\n",
        "        ResLinear(100, 10)\n",
        "    )\n",
        "\n",
        "if cuda:\n",
        "    model = model.cuda()\n",
        "\n",
        "criterion = nn.CrossEntropyLoss()\n",
        "optimizer = optim.SGD(model.parameters(), lr=lr0)"
      ],
      "execution_count": null,
      "outputs": []
    },
    {
      "cell_type": "markdown",
      "metadata": {
        "id": "AgblR1dpZgYR"
      },
      "source": [
        "Learning rate schedule"
      ]
    },
    {
      "cell_type": "code",
      "metadata": {
        "id": "h2uESK6jZSGQ"
      },
      "source": [
        "def adjust_lr(optimizer, epoch, total_epochs):\n",
        "    lr = lr0 * (0.1 ** (epoch / float(total_epochs)))\n",
        "    for param_group in optimizer.param_groups:\n",
        "        param_group['lr'] = lr\n",
        "# `torch.optim.lr_scheduler` can be your good friend"
      ],
      "execution_count": null,
      "outputs": []
    },
    {
      "cell_type": "markdown",
      "metadata": {
        "id": "IS118esnZm8U"
      },
      "source": [
        "Evaluation functions"
      ]
    },
    {
      "cell_type": "code",
      "metadata": {
        "id": "tfJxfwKkZoP0"
      },
      "source": [
        "def accuracy(proba, y):\n",
        "    correct = torch.eq(proba.max(1)[1], y).sum().type(torch.FloatTensor)\n",
        "    return correct / y.size(0)\n",
        "    \n",
        "    \n",
        "def evaluate(dataset_loader, criterion):\n",
        "    LOSSES = 0\n",
        "    COUNTER = 0\n",
        "    for batch in dataset_loader:\n",
        "        optimizer.zero_grad()\n",
        "\n",
        "        x, y = batch\n",
        "        if model_type == 'MLP':\n",
        "            x = x.view(-1,784)\n",
        "            y = y.view(-1)\n",
        "        elif model_type == 'CNN':\n",
        "            x = x.view(-1,1,28,28)\n",
        "            y = y.view(-1)\n",
        "        if cuda:\n",
        "            x = x.cuda()\n",
        "            y = y.cuda()\n",
        "            \n",
        "        loss = criterion(model(x), y)\n",
        "        n = y.size(0)\n",
        "        LOSSES += loss.sum().data.cpu().numpy() * n\n",
        "        COUNTER += n\n",
        "    return LOSSES / float(COUNTER)"
      ],
      "execution_count": null,
      "outputs": []
    },
    {
      "cell_type": "markdown",
      "metadata": {
        "id": "5Qmpwu48Zp0J"
      },
      "source": [
        "Training loop"
      ]
    },
    {
      "cell_type": "code",
      "metadata": {
        "id": "mmGqCNryZpBd",
        "colab": {
          "base_uri": "https://localhost:8080/",
          "height": 289
        },
        "outputId": "5a0b4d45-dc73-4a02-b439-277d66b412a9"
      },
      "source": [
        "LOSSES = 0\n",
        "COUNTER = 0\n",
        "ITERATIONS = 0\n",
        "learning_curve_nll_train = list()\n",
        "learning_curve_nll_test = list()\n",
        "learning_curve_acc_train = list()\n",
        "learning_curve_acc_test = list()\n",
        "for e in range(num_epochs):\n",
        "    for batch in train_loader:\n",
        "        optimizer.zero_grad()\n",
        "\n",
        "        x, y = batch\n",
        "        if model_type == 'MLP':\n",
        "            x = x.view(-1,784)\n",
        "            y = y.view(-1)\n",
        "        elif model_type == 'CNN':\n",
        "            x = x.view(-1,1,28,28)\n",
        "            y = y.view(-1)\n",
        "        if cuda:\n",
        "            x = x.cuda()\n",
        "            y = y.cuda()\n",
        "            \n",
        "        loss = criterion(model(x), y)\n",
        "        loss.backward()\n",
        "        optimizer.step()\n",
        "        \n",
        "        n = y.size(0)\n",
        "        LOSSES += loss.sum().data.cpu().numpy() * n\n",
        "        COUNTER += n\n",
        "        ITERATIONS += 1\n",
        "        if ITERATIONS%(store_every/5) == 0:\n",
        "            avg_loss = LOSSES / float(COUNTER)\n",
        "            LOSSES = 0\n",
        "            COUNTER = 0\n",
        "            print(\" Iteration {}: TRAIN {}\".format(\n",
        "                ITERATIONS, avg_loss))\n",
        "    \n",
        "        if ITERATIONS%(store_every) == 0:     \n",
        "            train_loss = evaluate(train_loader, criterion)\n",
        "            learning_curve_nll_train.append(train_loss)\n",
        "            test_loss = evaluate(test_loader, criterion)\n",
        "            learning_curve_nll_test.append(test_loss)\n",
        "\n",
        "            train_acc = evaluate(train_loader, accuracy)\n",
        "            learning_curve_acc_train.append(train_acc)\n",
        "            test_acc = evaluate(test_loader, accuracy)\n",
        "            learning_curve_acc_test.append(test_acc)\n",
        "                    \n",
        "            print(\" [NLL] TRAIN {} / TEST {}\".format(\n",
        "                train_loss, test_loss))\n",
        "            print(\" [ACC] TRAIN {} / TEST {}\".format(\n",
        "                train_acc, test_acc))\n",
        "    \n",
        "    adjust_lr(optimizer, e+1, num_epochs)\n",
        "    "
      ],
      "execution_count": null,
      "outputs": [
        {
          "output_type": "stream",
          "text": [
            " Iteration 200: TRAIN 1.7470000556111336\n",
            " Iteration 400: TRAIN 0.4628930714726448\n",
            " Iteration 600: TRAIN 0.2989757400378585\n",
            " Iteration 800: TRAIN 0.23055737674236298\n"
          ],
          "name": "stdout"
        },
        {
          "output_type": "error",
          "ename": "NameError",
          "evalue": "ignored",
          "traceback": [
            "\u001b[0;31m---------------------------------------------------------------------------\u001b[0m",
            "\u001b[0;31mNameError\u001b[0m                                 Traceback (most recent call last)",
            "\u001b[0;32m<ipython-input-7-d8250c65a191>\u001b[0m in \u001b[0;36m<module>\u001b[0;34m()\u001b[0m\n\u001b[1;32m     52\u001b[0m                 train_acc, test_acc))\n\u001b[1;32m     53\u001b[0m \u001b[0;34m\u001b[0m\u001b[0m\n\u001b[0;32m---> 54\u001b[0;31m     \u001b[0madjust_lr\u001b[0m\u001b[0;34m(\u001b[0m\u001b[0moptimizer\u001b[0m\u001b[0;34m,\u001b[0m \u001b[0me\u001b[0m\u001b[0;34m+\u001b[0m\u001b[0;36m1\u001b[0m\u001b[0;34m,\u001b[0m \u001b[0mnum_epochs\u001b[0m\u001b[0;34m)\u001b[0m\u001b[0;34m\u001b[0m\u001b[0;34m\u001b[0m\u001b[0m\n\u001b[0m\u001b[1;32m     55\u001b[0m \u001b[0;34m\u001b[0m\u001b[0m\n",
            "\u001b[0;31mNameError\u001b[0m: name 'adjust_lr' is not defined"
          ]
        }
      ]
    },
    {
      "cell_type": "code",
      "metadata": {
        "id": "DSejvQRCZvmx"
      },
      "source": [
        ""
      ],
      "execution_count": null,
      "outputs": []
    }
  ]
}